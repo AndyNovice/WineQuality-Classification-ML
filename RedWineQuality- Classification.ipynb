{
 "cells": [
  {
   "cell_type": "code",
   "execution_count": 1,
   "metadata": {},
   "outputs": [],
   "source": [
    "#Importing the libraries\n",
    "import pandas as pd\n",
    "import numpy as np\n",
    "import matplotlib.pyplot as plt\n",
    "import warnings\n",
    "warnings.filterwarnings('ignore')"
   ]
  },
  {
   "cell_type": "code",
   "execution_count": 2,
   "metadata": {},
   "outputs": [],
   "source": [
    "#Importing the dataset\n",
    "redWinedataset = pd.read_excel('winequality-red.xlsx')"
   ]
  },
  {
   "cell_type": "code",
   "execution_count": 3,
   "metadata": {},
   "outputs": [
    {
     "data": {
      "text/html": [
       "<div>\n",
       "<style scoped>\n",
       "    .dataframe tbody tr th:only-of-type {\n",
       "        vertical-align: middle;\n",
       "    }\n",
       "\n",
       "    .dataframe tbody tr th {\n",
       "        vertical-align: top;\n",
       "    }\n",
       "\n",
       "    .dataframe thead th {\n",
       "        text-align: right;\n",
       "    }\n",
       "</style>\n",
       "<table border=\"1\" class=\"dataframe\">\n",
       "  <thead>\n",
       "    <tr style=\"text-align: right;\">\n",
       "      <th></th>\n",
       "      <th>fixed acidity</th>\n",
       "      <th>volatile acidity</th>\n",
       "      <th>citric acid</th>\n",
       "      <th>residual sugar</th>\n",
       "      <th>chlorides</th>\n",
       "      <th>free sulfur dioxide</th>\n",
       "      <th>total sulfur dioxide</th>\n",
       "      <th>density</th>\n",
       "      <th>pH</th>\n",
       "      <th>sulphates</th>\n",
       "      <th>alcohol</th>\n",
       "      <th>quality</th>\n",
       "    </tr>\n",
       "  </thead>\n",
       "  <tbody>\n",
       "    <tr>\n",
       "      <td>0</td>\n",
       "      <td>7.4</td>\n",
       "      <td>0.700</td>\n",
       "      <td>0.00</td>\n",
       "      <td>1.9</td>\n",
       "      <td>0.076</td>\n",
       "      <td>11.0</td>\n",
       "      <td>34.0</td>\n",
       "      <td>0.99780</td>\n",
       "      <td>3.51</td>\n",
       "      <td>0.56</td>\n",
       "      <td>9.4</td>\n",
       "      <td>5</td>\n",
       "    </tr>\n",
       "    <tr>\n",
       "      <td>1</td>\n",
       "      <td>7.8</td>\n",
       "      <td>0.880</td>\n",
       "      <td>0.00</td>\n",
       "      <td>2.6</td>\n",
       "      <td>0.098</td>\n",
       "      <td>25.0</td>\n",
       "      <td>67.0</td>\n",
       "      <td>0.99680</td>\n",
       "      <td>3.20</td>\n",
       "      <td>0.68</td>\n",
       "      <td>9.8</td>\n",
       "      <td>5</td>\n",
       "    </tr>\n",
       "    <tr>\n",
       "      <td>2</td>\n",
       "      <td>7.8</td>\n",
       "      <td>0.760</td>\n",
       "      <td>0.04</td>\n",
       "      <td>2.3</td>\n",
       "      <td>0.092</td>\n",
       "      <td>15.0</td>\n",
       "      <td>54.0</td>\n",
       "      <td>0.99700</td>\n",
       "      <td>3.26</td>\n",
       "      <td>0.65</td>\n",
       "      <td>9.8</td>\n",
       "      <td>5</td>\n",
       "    </tr>\n",
       "    <tr>\n",
       "      <td>3</td>\n",
       "      <td>11.2</td>\n",
       "      <td>0.280</td>\n",
       "      <td>0.56</td>\n",
       "      <td>1.9</td>\n",
       "      <td>0.075</td>\n",
       "      <td>17.0</td>\n",
       "      <td>60.0</td>\n",
       "      <td>0.99800</td>\n",
       "      <td>3.16</td>\n",
       "      <td>0.58</td>\n",
       "      <td>9.8</td>\n",
       "      <td>6</td>\n",
       "    </tr>\n",
       "    <tr>\n",
       "      <td>4</td>\n",
       "      <td>7.4</td>\n",
       "      <td>0.700</td>\n",
       "      <td>0.00</td>\n",
       "      <td>1.9</td>\n",
       "      <td>0.076</td>\n",
       "      <td>11.0</td>\n",
       "      <td>34.0</td>\n",
       "      <td>0.99780</td>\n",
       "      <td>3.51</td>\n",
       "      <td>0.56</td>\n",
       "      <td>9.4</td>\n",
       "      <td>5</td>\n",
       "    </tr>\n",
       "    <tr>\n",
       "      <td>...</td>\n",
       "      <td>...</td>\n",
       "      <td>...</td>\n",
       "      <td>...</td>\n",
       "      <td>...</td>\n",
       "      <td>...</td>\n",
       "      <td>...</td>\n",
       "      <td>...</td>\n",
       "      <td>...</td>\n",
       "      <td>...</td>\n",
       "      <td>...</td>\n",
       "      <td>...</td>\n",
       "      <td>...</td>\n",
       "    </tr>\n",
       "    <tr>\n",
       "      <td>1594</td>\n",
       "      <td>6.2</td>\n",
       "      <td>0.600</td>\n",
       "      <td>0.08</td>\n",
       "      <td>2.0</td>\n",
       "      <td>0.090</td>\n",
       "      <td>32.0</td>\n",
       "      <td>44.0</td>\n",
       "      <td>0.99490</td>\n",
       "      <td>3.45</td>\n",
       "      <td>0.58</td>\n",
       "      <td>10.5</td>\n",
       "      <td>5</td>\n",
       "    </tr>\n",
       "    <tr>\n",
       "      <td>1595</td>\n",
       "      <td>5.9</td>\n",
       "      <td>0.550</td>\n",
       "      <td>0.10</td>\n",
       "      <td>2.2</td>\n",
       "      <td>0.062</td>\n",
       "      <td>39.0</td>\n",
       "      <td>51.0</td>\n",
       "      <td>0.99512</td>\n",
       "      <td>3.52</td>\n",
       "      <td>0.76</td>\n",
       "      <td>11.2</td>\n",
       "      <td>6</td>\n",
       "    </tr>\n",
       "    <tr>\n",
       "      <td>1596</td>\n",
       "      <td>6.3</td>\n",
       "      <td>0.510</td>\n",
       "      <td>0.13</td>\n",
       "      <td>2.3</td>\n",
       "      <td>0.076</td>\n",
       "      <td>29.0</td>\n",
       "      <td>40.0</td>\n",
       "      <td>0.99574</td>\n",
       "      <td>3.42</td>\n",
       "      <td>0.75</td>\n",
       "      <td>11.0</td>\n",
       "      <td>6</td>\n",
       "    </tr>\n",
       "    <tr>\n",
       "      <td>1597</td>\n",
       "      <td>5.9</td>\n",
       "      <td>0.645</td>\n",
       "      <td>0.12</td>\n",
       "      <td>2.0</td>\n",
       "      <td>0.075</td>\n",
       "      <td>32.0</td>\n",
       "      <td>44.0</td>\n",
       "      <td>0.99547</td>\n",
       "      <td>3.57</td>\n",
       "      <td>0.71</td>\n",
       "      <td>10.2</td>\n",
       "      <td>5</td>\n",
       "    </tr>\n",
       "    <tr>\n",
       "      <td>1598</td>\n",
       "      <td>6.0</td>\n",
       "      <td>0.310</td>\n",
       "      <td>0.47</td>\n",
       "      <td>3.6</td>\n",
       "      <td>0.067</td>\n",
       "      <td>18.0</td>\n",
       "      <td>42.0</td>\n",
       "      <td>0.99549</td>\n",
       "      <td>3.39</td>\n",
       "      <td>0.66</td>\n",
       "      <td>11.0</td>\n",
       "      <td>6</td>\n",
       "    </tr>\n",
       "  </tbody>\n",
       "</table>\n",
       "<p>1599 rows × 12 columns</p>\n",
       "</div>"
      ],
      "text/plain": [
       "      fixed acidity  volatile acidity  citric acid  residual sugar  chlorides  \\\n",
       "0               7.4             0.700         0.00             1.9      0.076   \n",
       "1               7.8             0.880         0.00             2.6      0.098   \n",
       "2               7.8             0.760         0.04             2.3      0.092   \n",
       "3              11.2             0.280         0.56             1.9      0.075   \n",
       "4               7.4             0.700         0.00             1.9      0.076   \n",
       "...             ...               ...          ...             ...        ...   \n",
       "1594            6.2             0.600         0.08             2.0      0.090   \n",
       "1595            5.9             0.550         0.10             2.2      0.062   \n",
       "1596            6.3             0.510         0.13             2.3      0.076   \n",
       "1597            5.9             0.645         0.12             2.0      0.075   \n",
       "1598            6.0             0.310         0.47             3.6      0.067   \n",
       "\n",
       "      free sulfur dioxide  total sulfur dioxide  density    pH  sulphates  \\\n",
       "0                    11.0                  34.0  0.99780  3.51       0.56   \n",
       "1                    25.0                  67.0  0.99680  3.20       0.68   \n",
       "2                    15.0                  54.0  0.99700  3.26       0.65   \n",
       "3                    17.0                  60.0  0.99800  3.16       0.58   \n",
       "4                    11.0                  34.0  0.99780  3.51       0.56   \n",
       "...                   ...                   ...      ...   ...        ...   \n",
       "1594                 32.0                  44.0  0.99490  3.45       0.58   \n",
       "1595                 39.0                  51.0  0.99512  3.52       0.76   \n",
       "1596                 29.0                  40.0  0.99574  3.42       0.75   \n",
       "1597                 32.0                  44.0  0.99547  3.57       0.71   \n",
       "1598                 18.0                  42.0  0.99549  3.39       0.66   \n",
       "\n",
       "      alcohol  quality  \n",
       "0         9.4        5  \n",
       "1         9.8        5  \n",
       "2         9.8        5  \n",
       "3         9.8        6  \n",
       "4         9.4        5  \n",
       "...       ...      ...  \n",
       "1594     10.5        5  \n",
       "1595     11.2        6  \n",
       "1596     11.0        6  \n",
       "1597     10.2        5  \n",
       "1598     11.0        6  \n",
       "\n",
       "[1599 rows x 12 columns]"
      ]
     },
     "execution_count": 3,
     "metadata": {},
     "output_type": "execute_result"
    }
   ],
   "source": [
    "redWinedataset"
   ]
  },
  {
   "cell_type": "code",
   "execution_count": 4,
   "metadata": {},
   "outputs": [
    {
     "data": {
      "text/plain": [
       "False"
      ]
     },
     "execution_count": 4,
     "metadata": {},
     "output_type": "execute_result"
    }
   ],
   "source": [
    "#Checking for null bvalues in the dataset\n",
    "redWinedataset.isnull().values.any()"
   ]
  },
  {
   "cell_type": "code",
   "execution_count": 5,
   "metadata": {},
   "outputs": [],
   "source": [
    "#Creating the independent variables(features) and dependent variable(target variable)\n",
    "x = redWinedataset.iloc[:,:-1].values\n",
    "y = redWinedataset.iloc[:,-1].values"
   ]
  },
  {
   "cell_type": "code",
   "execution_count": 6,
   "metadata": {},
   "outputs": [],
   "source": [
    "#Splitting the dataset into training set and test set\n",
    "from sklearn.model_selection import train_test_split\n",
    "x_train,x_test,y_train,y_test = train_test_split(x,y,test_size=0.2,random_state=0)"
   ]
  },
  {
   "cell_type": "code",
   "execution_count": 7,
   "metadata": {},
   "outputs": [],
   "source": [
    "#Feature Scaling\n",
    "from sklearn.preprocessing import StandardScaler\n",
    "sc = StandardScaler()\n",
    "x_train[:,[0,3,5,6,8,10]] = sc.fit_transform(x_train[:,[0,3,5,6,8,10]])\n",
    "x_test[:,[0,3,5,6,8,10]] = sc.transform(x_test[:,[0,3,5,6,8,10]])"
   ]
  },
  {
   "cell_type": "code",
   "execution_count": 8,
   "metadata": {},
   "outputs": [
    {
     "data": {
      "text/plain": [
       "LogisticRegression(C=1.0, class_weight=None, dual=False, fit_intercept=True,\n",
       "                   intercept_scaling=1, l1_ratio=None, max_iter=100,\n",
       "                   multi_class='warn', n_jobs=None, penalty='l2',\n",
       "                   random_state=0, solver='warn', tol=0.0001, verbose=0,\n",
       "                   warm_start=False)"
      ]
     },
     "execution_count": 8,
     "metadata": {},
     "output_type": "execute_result"
    }
   ],
   "source": [
    "##Training the Logistic Regressor model on the training set\n",
    "from sklearn.linear_model import LogisticRegression\n",
    "classifier = LogisticRegression(random_state=0)\n",
    "classifier.fit(x_train,y_train)"
   ]
  },
  {
   "cell_type": "code",
   "execution_count": 9,
   "metadata": {},
   "outputs": [
    {
     "name": "stdout",
     "output_type": "stream",
     "text": [
      "[6 5 6 5 6 5 5 6 5 5 5 5 6 5 6 6 7 6 6 5 6 5 6 5 5 5 5 6 5 6 6 6 6 5 6 6 5\n",
      " 5 6 6 5 6 7 7 6 5 5 6 5 6 5 5 6 7 6 5 5 5 6 5 5 6 6 6 5 6 5 6 6 6 5 5 5 5\n",
      " 5 6 5 5 5 6 5 5 6 6 5 5 6 5 5 5 5 5 6 5 6 5 6 5 5 6 7 6 6 6 6 5 6 5 6 5 6\n",
      " 5 6 5 6 6 6 7 6 6 5 6 5 5 6 6 5 5 6 6 5 5 6 6 6 5 6 5 6 5 6 5 5 5 6 6 6 6\n",
      " 6 5 6 6 5 6 6 6 5 5 6 6 6 6 6 5 6 5 6 6 5 6 6 5 5 7 6 6 6 7 6 5 5 7 5 6 7\n",
      " 5 6 6 5 6 6 5 5 5 5 5 5 5 5 5 5 6 5 5 5 5 5 6 6 5 6 5 5 7 5 5 6 6 6 5 5 6\n",
      " 6 5 5 6 6 6 5 5 5 6 5 6 6 6 6 6 6 6 5 5 5 5 6 5 5 5 5 6 5 5 5 5 5 5 5 5 5\n",
      " 5 5 7 5 5 5 5 5 5 6 6 5 5 5 6 6 6 6 5 6 6 5 7 5 6 6 5 5 5 6 6 6 6 6 5 5 6\n",
      " 5 5 5 5 6 5 5 5 6 6 5 5 5 5 5 6 5 5 5 7 6 6 5 6]\n"
     ]
    }
   ],
   "source": [
    "##Predicting test results\n",
    "y_pred = classifier.predict(x_test)\n",
    "print(y_pred)"
   ]
  },
  {
   "cell_type": "code",
   "execution_count": 10,
   "metadata": {
    "scrolled": true
   },
   "outputs": [
    {
     "name": "stdout",
     "output_type": "stream",
     "text": [
      "0.634375\n",
      "[[  0   0   2   0   0   0]\n",
      " [  0   0   7   4   0   0]\n",
      " [  0   0 108  26   1   0]\n",
      " [  0   0  46  90   6   0]\n",
      " [  0   0   2  20   5   0]\n",
      " [  0   0   0   1   2   0]]\n"
     ]
    }
   ],
   "source": [
    "##Calculating accuracy score and confusion matrix\n",
    "from sklearn.metrics import accuracy_score,confusion_matrix\n",
    "ac = accuracy_score(y_test,y_pred)\n",
    "cm = confusion_matrix(y_test,y_pred)\n",
    "print(ac)\n",
    "print(cm)"
   ]
  },
  {
   "cell_type": "code",
   "execution_count": 11,
   "metadata": {},
   "outputs": [
    {
     "data": {
      "image/png": "[encoded data removed]",
      "text/plain": [
       "<Figure size 432x288 with 1 Axes>"
      ]
     },
     "metadata": {},
     "output_type": "display_data"
    }
   ],
   "source": [
    "#Visualizing the test results\n",
    "plt.style.use('dark_background')\n",
    "bins = np.linspace(3,10,10)\n",
    "plt.hist([y_test,y_pred],bins=bins,color=['purple','green'],label=['Actual result','Predicted result'])\n",
    "plt.xlabel('Red wine quality')\n",
    "plt.ylabel('Test set')\n",
    "plt.legend()\n",
    "plt.show()"
   ]
  },
  {
   "cell_type": "markdown",
   "metadata": {},
   "source": [
    "---"
   ]
  },
  {
   "cell_type": "code",
   "execution_count": 12,
   "metadata": {},
   "outputs": [
    {
     "data": {
      "text/plain": [
       "KNeighborsClassifier(algorithm='auto', leaf_size=30, metric='minkowski',\n",
       "                     metric_params=None, n_jobs=None, n_neighbors=5, p=2,\n",
       "                     weights='uniform')"
      ]
     },
     "execution_count": 12,
     "metadata": {},
     "output_type": "execute_result"
    }
   ],
   "source": [
    "##Training the K-NN model on the training set\n",
    "from sklearn.neighbors import KNeighborsClassifier\n",
    "classifier = KNeighborsClassifier(n_neighbors=5)\n",
    "classifier.fit(x_train,y_train)"
   ]
  },
  {
   "cell_type": "code",
   "execution_count": 13,
   "metadata": {},
   "outputs": [
    {
     "name": "stdout",
     "output_type": "stream",
     "text": [
      "[6 5 7 5 6 5 5 6 5 6 5 5 6 6 6 6 7 5 5 5 7 5 6 6 6 5 5 6 5 6 7 6 5 6 6 6 6\n",
      " 5 5 7 5 6 6 5 6 5 5 6 5 6 5 5 5 7 5 5 5 5 6 5 5 5 6 6 5 6 5 5 6 7 5 5 5 5\n",
      " 6 5 5 5 5 7 5 5 6 6 6 5 5 6 5 5 5 5 5 5 6 5 6 5 5 6 7 6 5 7 6 5 6 5 6 5 6\n",
      " 5 6 5 7 6 5 7 4 6 5 5 5 5 6 6 5 5 6 6 5 5 6 6 5 5 6 5 5 5 6 5 5 5 5 6 6 5\n",
      " 6 5 7 5 5 6 5 6 4 5 6 6 6 5 7 5 5 5 5 6 6 6 6 5 6 7 6 6 5 7 5 5 5 6 6 6 6\n",
      " 5 5 5 5 6 7 5 5 5 5 5 5 6 5 5 5 6 6 6 5 5 6 6 6 6 6 5 5 7 6 5 6 5 6 5 6 7\n",
      " 7 5 5 5 7 5 6 5 5 6 6 7 7 6 5 7 6 6 6 5 6 5 6 5 5 5 5 6 6 5 6 6 5 5 5 5 5\n",
      " 6 5 6 6 5 5 5 5 5 5 5 6 5 6 6 6 6 6 5 6 5 6 6 5 6 6 5 5 5 6 6 5 6 5 5 5 6\n",
      " 6 6 5 5 6 6 6 5 6 6 6 6 5 5 6 6 5 5 5 6 6 7 5 7]\n"
     ]
    }
   ],
   "source": [
    "##Predicting test results\n",
    "y_pred = classifier.predict(x_test)\n",
    "print(y_pred)"
   ]
  },
  {
   "cell_type": "code",
   "execution_count": 14,
   "metadata": {},
   "outputs": [
    {
     "name": "stdout",
     "output_type": "stream",
     "text": [
      "0.534375\n",
      "[[ 0  1  0  1  0  0]\n",
      " [ 0  0  8  3  0  0]\n",
      " [ 0  0 92 39  4  0]\n",
      " [ 0  1 58 71 12  0]\n",
      " [ 0  0  4 15  8  0]\n",
      " [ 0  0  1  0  2  0]]\n"
     ]
    }
   ],
   "source": [
    "##Calculating accuracy score and confusion matrix\n",
    "from sklearn.metrics import accuracy_score,confusion_matrix\n",
    "ac = accuracy_score(y_test,y_pred)\n",
    "cm = confusion_matrix(y_test,y_pred)\n",
    "print(ac)\n",
    "print(cm)"
   ]
  },
  {
   "cell_type": "code",
   "execution_count": 15,
   "metadata": {},
   "outputs": [
    {
     "data": {
      "image/png": "[encoded data removed]",
      "text/plain": [
       "<Figure size 432x288 with 1 Axes>"
      ]
     },
     "metadata": {},
     "output_type": "display_data"
    }
   ],
   "source": [
    "#Visualizing the test results\n",
    "bins = np.linspace(3,10,10)\n",
    "plt.hist([y_test,y_pred],bins=bins,color=['blue','pink'],label=['Actual result','Predicted result'])\n",
    "plt.xlabel('Red wine quality')\n",
    "plt.ylabel('Test set')\n",
    "plt.legend()\n",
    "plt.show()"
   ]
  },
  {
   "cell_type": "markdown",
   "metadata": {},
   "source": [
    "---"
   ]
  },
  {
   "cell_type": "code",
   "execution_count": 16,
   "metadata": {},
   "outputs": [
    {
     "data": {
      "text/plain": [
       "GaussianNB(priors=None, var_smoothing=1e-09)"
      ]
     },
     "execution_count": 16,
     "metadata": {},
     "output_type": "execute_result"
    }
   ],
   "source": [
    "##Training the Naive Bayes model on the training set\n",
    "from sklearn.naive_bayes import GaussianNB\n",
    "classifier = GaussianNB()\n",
    "classifier.fit(x_train,y_train)"
   ]
  },
  {
   "cell_type": "code",
   "execution_count": 17,
   "metadata": {},
   "outputs": [
    {
     "name": "stdout",
     "output_type": "stream",
     "text": [
      "[5 5 7 5 7 5 5 6 5 5 5 5 6 4 6 7 7 6 6 5 6 5 6 6 6 5 5 7 5 6 6 6 6 5 6 7 5\n",
      " 6 8 6 5 6 8 7 6 5 6 6 6 7 6 6 6 7 6 5 5 5 7 5 5 6 6 6 5 6 5 7 6 6 5 4 5 5\n",
      " 5 8 5 5 5 7 6 5 6 6 6 5 6 5 5 5 5 5 6 5 7 5 7 6 5 6 7 6 6 7 6 5 6 5 6 5 6\n",
      " 5 7 5 6 6 6 7 6 6 5 6 4 5 8 7 5 5 6 7 5 5 6 6 7 5 7 4 7 6 6 5 6 6 5 6 7 7\n",
      " 6 6 6 6 5 5 6 5 6 5 6 6 6 6 7 5 7 5 6 7 5 6 7 6 5 7 6 7 6 7 6 5 5 8 5 7 8\n",
      " 5 5 6 5 6 6 6 5 5 5 5 5 5 5 5 5 6 5 5 5 5 5 7 6 5 6 7 4 7 5 5 6 6 6 5 5 6\n",
      " 7 6 5 7 7 6 5 6 5 6 3 6 7 6 7 7 8 7 5 4 5 5 6 5 6 5 4 7 5 5 5 5 6 6 5 5 5\n",
      " 6 5 8 5 6 5 5 6 5 5 7 6 6 6 8 7 6 7 5 7 7 5 7 6 7 6 5 6 5 7 6 6 4 6 5 5 6\n",
      " 5 6 5 5 6 3 6 6 6 6 3 5 5 6 5 6 6 6 5 7 6 7 5 7]\n"
     ]
    }
   ],
   "source": [
    "##Predicting test results\n",
    "y_pred = classifier.predict(x_test)\n",
    "print(y_pred)"
   ]
  },
  {
   "cell_type": "code",
   "execution_count": 18,
   "metadata": {},
   "outputs": [
    {
     "name": "stdout",
     "output_type": "stream",
     "text": [
      "0.540625\n",
      "[[ 0  0  1  1  0  0]\n",
      " [ 0  0  7  3  0  1]\n",
      " [ 2  5 85 35  8  0]\n",
      " [ 0  3 31 73 29  6]\n",
      " [ 1  0  0  9 15  2]\n",
      " [ 0  0  0  0  3  0]]\n"
     ]
    }
   ],
   "source": [
    "##Calculating accuracy score and confusion matrix\n",
    "from sklearn.metrics import accuracy_score,confusion_matrix\n",
    "ac = accuracy_score(y_test,y_pred)\n",
    "cm = confusion_matrix(y_test,y_pred)\n",
    "print(ac)\n",
    "print(cm)"
   ]
  },
  {
   "cell_type": "markdown",
   "metadata": {},
   "source": [
    "---"
   ]
  },
  {
   "cell_type": "code",
   "execution_count": 19,
   "metadata": {},
   "outputs": [
    {
     "data": {
      "image/png": "[encoded data removed]",
      "text/plain": [
       "<Figure size 432x288 with 1 Axes>"
      ]
     },
     "metadata": {},
     "output_type": "display_data"
    }
   ],
   "source": [
    "#Visualizing the test results\n",
    "bins = np.linspace(3,10,10)\n",
    "plt.hist([y_test,y_pred],bins=bins,color=['cyan','orange'],label=['Actual result','Predicted result'])\n",
    "plt.xlabel('Red wine quality')\n",
    "plt.ylabel('Test set')\n",
    "plt.legend()\n",
    "plt.show()"
   ]
  },
  {
   "cell_type": "code",
   "execution_count": 20,
   "metadata": {},
   "outputs": [
    {
     "data": {
      "text/plain": [
       "SVC(C=1.0, cache_size=200, class_weight=None, coef0=0.0,\n",
       "    decision_function_shape='ovr', degree=3, gamma='auto_deprecated',\n",
       "    kernel='rbf', max_iter=-1, probability=False, random_state=0,\n",
       "    shrinking=True, tol=0.001, verbose=False)"
      ]
     },
     "execution_count": 20,
     "metadata": {},
     "output_type": "execute_result"
    }
   ],
   "source": [
    "##Training the kernel SVM on the training set\n",
    "from sklearn.svm import SVC\n",
    "classifier = SVC(kernel='rbf',random_state=0)\n",
    "classifier.fit(x_train,y_train)"
   ]
  },
  {
   "cell_type": "code",
   "execution_count": 21,
   "metadata": {},
   "outputs": [
    {
     "name": "stdout",
     "output_type": "stream",
     "text": [
      "[6 5 6 5 6 5 5 6 5 5 5 5 6 6 5 6 6 6 6 5 6 5 6 6 5 5 5 6 5 6 6 6 6 5 6 6 5\n",
      " 5 6 6 5 6 6 6 6 5 5 6 5 6 5 5 6 6 5 5 5 5 6 5 5 6 6 6 5 6 5 5 6 7 5 5 5 5\n",
      " 6 6 5 5 5 6 6 5 6 6 6 5 6 5 5 5 5 5 5 5 6 5 6 6 5 6 7 6 6 6 6 5 6 5 6 5 6\n",
      " 5 6 5 6 6 5 7 6 6 5 6 5 5 6 6 5 5 6 6 5 5 6 6 6 5 6 5 6 5 6 5 5 5 5 6 6 6\n",
      " 6 5 6 6 5 6 5 6 5 5 6 6 6 5 6 5 6 5 6 6 5 6 6 5 5 6 6 6 7 6 6 5 5 6 5 6 6\n",
      " 5 6 6 5 6 6 5 5 5 5 5 5 5 5 5 5 6 5 5 5 5 5 6 6 5 6 5 5 6 5 5 6 6 6 5 5 6\n",
      " 6 5 5 6 6 5 5 5 5 6 5 6 6 6 6 6 6 6 5 5 5 5 6 5 5 5 5 6 5 5 5 6 5 5 5 5 5\n",
      " 6 5 6 5 6 5 5 5 5 5 6 5 5 5 6 7 6 6 5 6 6 5 6 5 6 5 5 5 5 6 6 6 6 6 5 5 6\n",
      " 5 5 5 5 6 5 5 5 6 6 5 5 5 5 5 6 5 6 5 6 6 6 5 6]\n"
     ]
    }
   ],
   "source": [
    "##Predicting test results\n",
    "y_pred = classifier.predict(x_test)\n",
    "print(y_pred)"
   ]
  },
  {
   "cell_type": "code",
   "execution_count": 22,
   "metadata": {},
   "outputs": [
    {
     "name": "stdout",
     "output_type": "stream",
     "text": [
      "0.6125\n",
      "[[  0   0   2   0   0   0]\n",
      " [  0   0   8   3   0   0]\n",
      " [  0   0 105  29   1   0]\n",
      " [  0   0  50  90   2   0]\n",
      " [  0   0   1  25   1   0]\n",
      " [  0   0   0   2   1   0]]\n"
     ]
    }
   ],
   "source": [
    "##Calculating accuracy score and confusion matrix\n",
    "from sklearn.metrics import accuracy_score,confusion_matrix\n",
    "ac = accuracy_score(y_test,y_pred)\n",
    "cm = confusion_matrix(y_test,y_pred)\n",
    "print(ac)\n",
    "print(cm)"
   ]
  },
  {
   "cell_type": "code",
   "execution_count": 23,
   "metadata": {},
   "outputs": [
    {
     "data": {
      "image/png": "[encoded data removed]",
      "text/plain": [
       "<Figure size 432x288 with 1 Axes>"
      ]
     },
     "metadata": {},
     "output_type": "display_data"
    }
   ],
   "source": [
    "#Visualizing the test results\n",
    "bins = np.linspace(3,10,10)\n",
    "plt.hist([y_test,y_pred],bins=bins,color=['cyan','orange'],label=['Actual result','Predicted result'])\n",
    "plt.xlabel('Red wine quality')\n",
    "plt.ylabel('Test set')\n",
    "plt.legend()\n",
    "plt.show()"
   ]
  },
  {
   "cell_type": "markdown",
   "metadata": {},
   "source": [
    "---"
   ]
  },
  {
   "cell_type": "code",
   "execution_count": 24,
   "metadata": {},
   "outputs": [
    {
     "data": {
      "text/plain": [
       "DecisionTreeClassifier(class_weight=None, criterion='entropy', max_depth=None,\n",
       "                       max_features=None, max_leaf_nodes=None,\n",
       "                       min_impurity_decrease=0.0, min_impurity_split=None,\n",
       "                       min_samples_leaf=1, min_samples_split=2,\n",
       "                       min_weight_fraction_leaf=0.0, presort=False,\n",
       "                       random_state=0, splitter='best')"
      ]
     },
     "execution_count": 24,
     "metadata": {},
     "output_type": "execute_result"
    }
   ],
   "source": [
    "##Training the Decision Tree Classification model on the training set\n",
    "from sklearn.tree import DecisionTreeClassifier\n",
    "classifier = DecisionTreeClassifier(criterion='entropy',random_state=0)\n",
    "classifier.fit(x_train,y_train)"
   ]
  },
  {
   "cell_type": "code",
   "execution_count": 25,
   "metadata": {},
   "outputs": [
    {
     "name": "stdout",
     "output_type": "stream",
     "text": [
      "[5 5 7 5 5 6 6 6 4 5 5 5 6 6 6 7 7 5 5 6 7 6 6 7 6 4 5 6 5 7 6 7 6 6 7 7 6\n",
      " 6 6 6 6 6 6 7 6 6 5 6 5 6 5 4 6 6 6 5 5 5 7 6 5 6 6 5 5 6 5 5 6 6 5 6 4 5\n",
      " 6 5 5 5 5 7 6 5 6 5 6 6 7 5 7 5 5 6 6 6 5 5 7 5 5 5 7 6 5 7 6 6 6 5 6 5 6\n",
      " 5 8 5 6 6 7 7 7 6 5 6 6 5 8 7 5 5 6 6 6 5 6 6 6 5 6 5 7 5 6 5 5 5 5 6 8 6\n",
      " 5 6 6 5 5 6 6 6 5 6 6 5 5 5 7 5 5 5 6 6 6 6 7 5 5 6 5 6 6 6 7 5 5 8 6 7 7\n",
      " 5 7 5 5 5 6 5 5 6 5 5 5 5 5 5 6 6 6 6 6 5 5 6 6 6 6 6 5 8 5 6 5 6 6 5 5 5\n",
      " 7 6 5 6 7 6 6 6 5 7 5 5 6 6 5 7 7 6 5 5 4 5 6 5 6 5 5 6 5 6 6 5 5 5 5 4 6\n",
      " 7 5 6 5 6 5 4 7 5 5 6 6 6 5 6 7 6 7 6 6 7 5 7 6 5 6 5 5 5 7 6 5 5 6 6 5 6\n",
      " 6 5 6 5 6 5 6 6 6 6 6 5 6 5 5 6 5 5 5 7 7 6 5 7]\n"
     ]
    }
   ],
   "source": [
    "##Predicting test results\n",
    "y_pred = classifier.predict(x_test)\n",
    "print(y_pred)"
   ]
  },
  {
   "cell_type": "code",
   "execution_count": 26,
   "metadata": {},
   "outputs": [
    {
     "name": "stdout",
     "output_type": "stream",
     "text": [
      "0.634375\n",
      "[[ 0  0  1  1  0  0]\n",
      " [ 0  3  3  3  2  0]\n",
      " [ 0  4 95 29  6  1]\n",
      " [ 0  0 29 92 20  1]\n",
      " [ 0  0  2  9 13  3]\n",
      " [ 0  0  0  1  2  0]]\n"
     ]
    }
   ],
   "source": [
    "##Calculating accuracy score and confusion matrix\n",
    "from sklearn.metrics import accuracy_score,confusion_matrix\n",
    "ac = accuracy_score(y_test,y_pred)\n",
    "cm = confusion_matrix(y_test,y_pred)\n",
    "print(ac)\n",
    "print(cm)"
   ]
  },
  {
   "cell_type": "code",
   "execution_count": 27,
   "metadata": {},
   "outputs": [
    {
     "data": {
      "image/png": "[encoded data removed]",
      "text/plain": [
       "<Figure size 432x288 with 1 Axes>"
      ]
     },
     "metadata": {},
     "output_type": "display_data"
    }
   ],
   "source": [
    "#Visualizing the test results\n",
    "bins = np.linspace(3,10,10)\n",
    "plt.hist([y_test,y_pred],bins=bins,color=['cyan','orange'],label=['Actual result','Predicted result'])\n",
    "plt.xlabel('Red wine quality')\n",
    "plt.ylabel('Test set')\n",
    "plt.legend()\n",
    "plt.show()"
   ]
  },
  {
   "cell_type": "markdown",
   "metadata": {},
   "source": [
    "---"
   ]
  },
  {
   "cell_type": "code",
   "execution_count": 28,
   "metadata": {},
   "outputs": [
    {
     "data": {
      "text/plain": [
       "RandomForestClassifier(bootstrap=True, class_weight=None, criterion='entropy',\n",
       "                       max_depth=None, max_features='auto', max_leaf_nodes=None,\n",
       "                       min_impurity_decrease=0.0, min_impurity_split=None,\n",
       "                       min_samples_leaf=1, min_samples_split=2,\n",
       "                       min_weight_fraction_leaf=0.0, n_estimators=100,\n",
       "                       n_jobs=None, oob_score=False, random_state=0, verbose=0,\n",
       "                       warm_start=False)"
      ]
     },
     "execution_count": 28,
     "metadata": {},
     "output_type": "execute_result"
    }
   ],
   "source": [
    "##Training the Random Forest Classification model on the training set\n",
    "from sklearn.ensemble import RandomForestClassifier\n",
    "classifier = RandomForestClassifier(n_estimators=100,criterion='entropy',random_state=0)\n",
    "classifier.fit(x_train,y_train)"
   ]
  },
  {
   "cell_type": "code",
   "execution_count": 29,
   "metadata": {},
   "outputs": [
    {
     "name": "stdout",
     "output_type": "stream",
     "text": [
      "[6 5 7 5 5 6 5 6 5 5 5 5 6 6 5 6 7 5 5 5 6 5 6 6 5 5 5 7 5 6 6 6 6 5 7 7 5\n",
      " 6 6 6 5 6 6 7 6 5 5 6 5 6 5 5 6 6 6 5 5 5 7 5 5 6 6 6 5 6 5 5 7 6 5 5 5 6\n",
      " 6 6 5 5 5 7 6 5 6 5 6 5 6 5 5 5 5 6 6 5 6 5 6 5 5 5 7 6 6 6 5 5 5 5 6 5 6\n",
      " 5 8 5 6 6 6 7 6 6 5 6 5 5 6 7 5 5 6 6 6 5 6 6 6 5 6 5 6 5 6 5 5 5 5 6 8 6\n",
      " 5 5 6 5 5 5 6 6 5 5 6 6 6 6 7 5 5 5 6 6 6 6 6 6 5 7 5 6 5 7 7 5 5 7 6 6 7\n",
      " 5 6 6 5 5 6 6 5 6 5 5 5 5 5 5 5 6 6 6 5 5 5 6 6 6 6 6 5 7 5 6 5 6 6 5 5 6\n",
      " 6 5 6 6 6 6 6 6 5 6 5 5 6 6 6 7 7 6 5 5 5 5 6 5 5 5 5 6 5 5 5 6 5 6 5 5 5\n",
      " 7 5 6 5 6 5 5 5 5 5 6 5 5 5 6 6 6 6 6 6 7 5 7 5 6 6 5 5 5 7 6 5 5 6 6 5 6\n",
      " 6 5 5 5 6 5 6 6 6 6 6 5 6 5 5 6 5 5 5 6 6 7 5 7]\n"
     ]
    }
   ],
   "source": [
    "##Predicting test results\n",
    "y_pred = classifier.predict(x_test)\n",
    "print(y_pred)"
   ]
  },
  {
   "cell_type": "code",
   "execution_count": 30,
   "metadata": {},
   "outputs": [
    {
     "name": "stdout",
     "output_type": "stream",
     "text": [
      "0.721875\n",
      "[[  0   0   1   1   0   0]\n",
      " [  0   0   7   4   0   0]\n",
      " [  0   0 114  19   2   0]\n",
      " [  0   0  30 103   9   0]\n",
      " [  0   0   1  10  14   2]\n",
      " [  0   0   0   1   2   0]]\n"
     ]
    }
   ],
   "source": [
    "##Calculating accuracy score and confusion matrix\n",
    "from sklearn.metrics import accuracy_score,confusion_matrix\n",
    "ac = accuracy_score(y_test,y_pred)\n",
    "cm = confusion_matrix(y_test,y_pred)\n",
    "print(ac)\n",
    "print(cm)"
   ]
  },
  {
   "cell_type": "code",
   "execution_count": 31,
   "metadata": {},
   "outputs": [
    {
     "data": {
      "image/png": "[encoded data removed]",
      "text/plain": [
       "<Figure size 432x288 with 1 Axes>"
      ]
     },
     "metadata": {},
     "output_type": "display_data"
    }
   ],
   "source": [
    "#Visualizing the test results\n",
    "bins = np.linspace(3,10,10)\n",
    "plt.hist([y_test,y_pred],bins=bins,color=['red','green'],label=['Actual result','Predicted result'])\n",
    "plt.xlabel('Red wine quality')\n",
    "plt.ylabel('Test set')\n",
    "plt.legend()\n",
    "plt.show()"
   ]
  },
  {
   "cell_type": "markdown",
   "metadata": {},
   "source": [
    "---"
   ]
  }
 ],
 "metadata": {
  "kernelspec": {
   "display_name": "Python 3",
   "language": "python",
   "name": "python3"
  },
  "language_info": {
   "codemirror_mode": {
    "name": "ipython",
    "version": 3
   },
   "file_extension": ".py",
   "mimetype": "text/x-python",
   "name": "python",
   "nbconvert_exporter": "python",
   "pygments_lexer": "ipython3",
   "version": "3.7.4"
  }
 },
 "nbformat": 4,
 "nbformat_minor": 2
}
