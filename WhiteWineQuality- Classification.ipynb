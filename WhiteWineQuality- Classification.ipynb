{
 "cells": [
  {
   "cell_type": "code",
   "execution_count": 1,
   "metadata": {},
   "outputs": [],
   "source": [
    "#Importing the libraries\n",
    "import pandas as pd\n",
    "import numpy as np\n",
    "import matplotlib.pyplot as plt\n",
    "import warnings\n",
    "warnings.filterwarnings('ignore')"
   ]
  },
  {
   "cell_type": "code",
   "execution_count": 2,
   "metadata": {},
   "outputs": [],
   "source": [
    "#Importing the dataset\n",
    "whiteWinedataset = pd.read_excel('winequality-white.xlsx')"
   ]
  },
  {
   "cell_type": "code",
   "execution_count": 3,
   "metadata": {},
   "outputs": [
    {
     "data": {
      "text/html": [
       "<div>\n",
       "<style scoped>\n",
       "    .dataframe tbody tr th:only-of-type {\n",
       "        vertical-align: middle;\n",
       "    }\n",
       "\n",
       "    .dataframe tbody tr th {\n",
       "        vertical-align: top;\n",
       "    }\n",
       "\n",
       "    .dataframe thead th {\n",
       "        text-align: right;\n",
       "    }\n",
       "</style>\n",
       "<table border=\"1\" class=\"dataframe\">\n",
       "  <thead>\n",
       "    <tr style=\"text-align: right;\">\n",
       "      <th></th>\n",
       "      <th>fixed acidity</th>\n",
       "      <th>volatile acidity</th>\n",
       "      <th>citric acid</th>\n",
       "      <th>residual sugar</th>\n",
       "      <th>chlorides</th>\n",
       "      <th>free sulfur dioxide</th>\n",
       "      <th>total sulfur dioxide</th>\n",
       "      <th>density</th>\n",
       "      <th>pH</th>\n",
       "      <th>sulphates</th>\n",
       "      <th>alcohol</th>\n",
       "      <th>quality</th>\n",
       "    </tr>\n",
       "  </thead>\n",
       "  <tbody>\n",
       "    <tr>\n",
       "      <td>0</td>\n",
       "      <td>7.0</td>\n",
       "      <td>0.27</td>\n",
       "      <td>0.36</td>\n",
       "      <td>20.7</td>\n",
       "      <td>0.045</td>\n",
       "      <td>45.0</td>\n",
       "      <td>170.0</td>\n",
       "      <td>1.00100</td>\n",
       "      <td>3.00</td>\n",
       "      <td>0.45</td>\n",
       "      <td>8.8</td>\n",
       "      <td>6</td>\n",
       "    </tr>\n",
       "    <tr>\n",
       "      <td>1</td>\n",
       "      <td>6.3</td>\n",
       "      <td>0.30</td>\n",
       "      <td>0.34</td>\n",
       "      <td>1.6</td>\n",
       "      <td>0.049</td>\n",
       "      <td>14.0</td>\n",
       "      <td>132.0</td>\n",
       "      <td>0.99400</td>\n",
       "      <td>3.30</td>\n",
       "      <td>0.49</td>\n",
       "      <td>9.5</td>\n",
       "      <td>6</td>\n",
       "    </tr>\n",
       "    <tr>\n",
       "      <td>2</td>\n",
       "      <td>8.1</td>\n",
       "      <td>0.28</td>\n",
       "      <td>0.40</td>\n",
       "      <td>6.9</td>\n",
       "      <td>0.050</td>\n",
       "      <td>30.0</td>\n",
       "      <td>97.0</td>\n",
       "      <td>0.99510</td>\n",
       "      <td>3.26</td>\n",
       "      <td>0.44</td>\n",
       "      <td>10.1</td>\n",
       "      <td>6</td>\n",
       "    </tr>\n",
       "    <tr>\n",
       "      <td>3</td>\n",
       "      <td>7.2</td>\n",
       "      <td>0.23</td>\n",
       "      <td>0.32</td>\n",
       "      <td>8.5</td>\n",
       "      <td>0.058</td>\n",
       "      <td>47.0</td>\n",
       "      <td>186.0</td>\n",
       "      <td>0.99560</td>\n",
       "      <td>3.19</td>\n",
       "      <td>0.40</td>\n",
       "      <td>9.9</td>\n",
       "      <td>6</td>\n",
       "    </tr>\n",
       "    <tr>\n",
       "      <td>4</td>\n",
       "      <td>7.2</td>\n",
       "      <td>0.23</td>\n",
       "      <td>0.32</td>\n",
       "      <td>8.5</td>\n",
       "      <td>0.058</td>\n",
       "      <td>47.0</td>\n",
       "      <td>186.0</td>\n",
       "      <td>0.99560</td>\n",
       "      <td>3.19</td>\n",
       "      <td>0.40</td>\n",
       "      <td>9.9</td>\n",
       "      <td>6</td>\n",
       "    </tr>\n",
       "    <tr>\n",
       "      <td>...</td>\n",
       "      <td>...</td>\n",
       "      <td>...</td>\n",
       "      <td>...</td>\n",
       "      <td>...</td>\n",
       "      <td>...</td>\n",
       "      <td>...</td>\n",
       "      <td>...</td>\n",
       "      <td>...</td>\n",
       "      <td>...</td>\n",
       "      <td>...</td>\n",
       "      <td>...</td>\n",
       "      <td>...</td>\n",
       "    </tr>\n",
       "    <tr>\n",
       "      <td>4893</td>\n",
       "      <td>6.2</td>\n",
       "      <td>0.21</td>\n",
       "      <td>0.29</td>\n",
       "      <td>1.6</td>\n",
       "      <td>0.039</td>\n",
       "      <td>24.0</td>\n",
       "      <td>92.0</td>\n",
       "      <td>0.99114</td>\n",
       "      <td>3.27</td>\n",
       "      <td>0.50</td>\n",
       "      <td>11.2</td>\n",
       "      <td>6</td>\n",
       "    </tr>\n",
       "    <tr>\n",
       "      <td>4894</td>\n",
       "      <td>6.6</td>\n",
       "      <td>0.32</td>\n",
       "      <td>0.36</td>\n",
       "      <td>8.0</td>\n",
       "      <td>0.047</td>\n",
       "      <td>57.0</td>\n",
       "      <td>168.0</td>\n",
       "      <td>0.99490</td>\n",
       "      <td>3.15</td>\n",
       "      <td>0.46</td>\n",
       "      <td>9.6</td>\n",
       "      <td>5</td>\n",
       "    </tr>\n",
       "    <tr>\n",
       "      <td>4895</td>\n",
       "      <td>6.5</td>\n",
       "      <td>0.24</td>\n",
       "      <td>0.19</td>\n",
       "      <td>1.2</td>\n",
       "      <td>0.041</td>\n",
       "      <td>30.0</td>\n",
       "      <td>111.0</td>\n",
       "      <td>0.99254</td>\n",
       "      <td>2.99</td>\n",
       "      <td>0.46</td>\n",
       "      <td>9.4</td>\n",
       "      <td>6</td>\n",
       "    </tr>\n",
       "    <tr>\n",
       "      <td>4896</td>\n",
       "      <td>5.5</td>\n",
       "      <td>0.29</td>\n",
       "      <td>0.30</td>\n",
       "      <td>1.1</td>\n",
       "      <td>0.022</td>\n",
       "      <td>20.0</td>\n",
       "      <td>110.0</td>\n",
       "      <td>0.98869</td>\n",
       "      <td>3.34</td>\n",
       "      <td>0.38</td>\n",
       "      <td>12.8</td>\n",
       "      <td>7</td>\n",
       "    </tr>\n",
       "    <tr>\n",
       "      <td>4897</td>\n",
       "      <td>6.0</td>\n",
       "      <td>0.21</td>\n",
       "      <td>0.38</td>\n",
       "      <td>0.8</td>\n",
       "      <td>0.020</td>\n",
       "      <td>22.0</td>\n",
       "      <td>98.0</td>\n",
       "      <td>0.98941</td>\n",
       "      <td>3.26</td>\n",
       "      <td>0.32</td>\n",
       "      <td>11.8</td>\n",
       "      <td>6</td>\n",
       "    </tr>\n",
       "  </tbody>\n",
       "</table>\n",
       "<p>4898 rows × 12 columns</p>\n",
       "</div>"
      ],
      "text/plain": [
       "      fixed acidity  volatile acidity  citric acid  residual sugar  chlorides  \\\n",
       "0               7.0              0.27         0.36            20.7      0.045   \n",
       "1               6.3              0.30         0.34             1.6      0.049   \n",
       "2               8.1              0.28         0.40             6.9      0.050   \n",
       "3               7.2              0.23         0.32             8.5      0.058   \n",
       "4               7.2              0.23         0.32             8.5      0.058   \n",
       "...             ...               ...          ...             ...        ...   \n",
       "4893            6.2              0.21         0.29             1.6      0.039   \n",
       "4894            6.6              0.32         0.36             8.0      0.047   \n",
       "4895            6.5              0.24         0.19             1.2      0.041   \n",
       "4896            5.5              0.29         0.30             1.1      0.022   \n",
       "4897            6.0              0.21         0.38             0.8      0.020   \n",
       "\n",
       "      free sulfur dioxide  total sulfur dioxide  density    pH  sulphates  \\\n",
       "0                    45.0                 170.0  1.00100  3.00       0.45   \n",
       "1                    14.0                 132.0  0.99400  3.30       0.49   \n",
       "2                    30.0                  97.0  0.99510  3.26       0.44   \n",
       "3                    47.0                 186.0  0.99560  3.19       0.40   \n",
       "4                    47.0                 186.0  0.99560  3.19       0.40   \n",
       "...                   ...                   ...      ...   ...        ...   \n",
       "4893                 24.0                  92.0  0.99114  3.27       0.50   \n",
       "4894                 57.0                 168.0  0.99490  3.15       0.46   \n",
       "4895                 30.0                 111.0  0.99254  2.99       0.46   \n",
       "4896                 20.0                 110.0  0.98869  3.34       0.38   \n",
       "4897                 22.0                  98.0  0.98941  3.26       0.32   \n",
       "\n",
       "      alcohol  quality  \n",
       "0         8.8        6  \n",
       "1         9.5        6  \n",
       "2        10.1        6  \n",
       "3         9.9        6  \n",
       "4         9.9        6  \n",
       "...       ...      ...  \n",
       "4893     11.2        6  \n",
       "4894      9.6        5  \n",
       "4895      9.4        6  \n",
       "4896     12.8        7  \n",
       "4897     11.8        6  \n",
       "\n",
       "[4898 rows x 12 columns]"
      ]
     },
     "execution_count": 3,
     "metadata": {},
     "output_type": "execute_result"
    }
   ],
   "source": [
    "whiteWinedataset"
   ]
  },
  {
   "cell_type": "code",
   "execution_count": 4,
   "metadata": {},
   "outputs": [
    {
     "data": {
      "text/plain": [
       "False"
      ]
     },
     "execution_count": 4,
     "metadata": {},
     "output_type": "execute_result"
    }
   ],
   "source": [
    "#Checking for null bvalues in the dataset\n",
    "whiteWinedataset.isnull().values.any()"
   ]
  },
  {
   "cell_type": "code",
   "execution_count": 5,
   "metadata": {},
   "outputs": [],
   "source": [
    "#Creating the independent variables(features) and dependent variable(target variable)\n",
    "x = whiteWinedataset.iloc[:,:-1].values\n",
    "y = whiteWinedataset.iloc[:,-1].values"
   ]
  },
  {
   "cell_type": "code",
   "execution_count": 6,
   "metadata": {},
   "outputs": [],
   "source": [
    "#Splitting the dataset into training set and test set\n",
    "from sklearn.model_selection import train_test_split\n",
    "x_train,x_test,y_train,y_test = train_test_split(x,y,test_size=0.2,random_state=0)"
   ]
  },
  {
   "cell_type": "code",
   "execution_count": 7,
   "metadata": {},
   "outputs": [],
   "source": [
    "#Feature Scaling\n",
    "from sklearn.preprocessing import StandardScaler\n",
    "sc = StandardScaler()\n",
    "x_train[:,[0,3,5,6,8,10]] = sc.fit_transform(x_train[:,[0,3,5,6,8,10]])\n",
    "x_test[:,[0,3,5,6,8,10]] = sc.transform(x_test[:,[0,3,5,6,8,10]])"
   ]
  },
  {
   "cell_type": "code",
   "execution_count": 8,
   "metadata": {},
   "outputs": [
    {
     "data": {
      "text/plain": [
       "LogisticRegression(C=1.0, class_weight=None, dual=False, fit_intercept=True,\n",
       "                   intercept_scaling=1, l1_ratio=None, max_iter=100,\n",
       "                   multi_class='warn', n_jobs=None, penalty='l2',\n",
       "                   random_state=0, solver='warn', tol=0.0001, verbose=0,\n",
       "                   warm_start=False)"
      ]
     },
     "execution_count": 8,
     "metadata": {},
     "output_type": "execute_result"
    }
   ],
   "source": [
    "##Training the Logistic Regressor model on the training set\n",
    "from sklearn.linear_model import LogisticRegression\n",
    "classifier = LogisticRegression(random_state=0)\n",
    "classifier.fit(x_train,y_train)"
   ]
  },
  {
   "cell_type": "code",
   "execution_count": 9,
   "metadata": {},
   "outputs": [
    {
     "name": "stdout",
     "output_type": "stream",
     "text": [
      "[6 5 6 6 6 5 6 6 6 6 6 6 5 5 6 6 6 5 6 6 6 6 6 6 6 6 5 5 6 6 5 6 6 6 5 6 6\n",
      " 5 6 6 6 6 6 6 5 6 5 6 6 6 6 6 5 6 6 6 6 6 5 6 6 5 6 6 6 6 6 5 5 5 6 5 6 6\n",
      " 6 6 6 5 6 6 6 6 6 5 5 6 6 6 6 6 7 6 6 6 5 6 5 5 6 6 6 5 6 6 5 6 6 5 6 5 5\n",
      " 6 6 5 6 7 5 5 7 6 5 6 6 5 6 7 6 6 5 6 6 6 6 6 6 5 6 6 5 6 6 6 5 6 6 6 6 6\n",
      " 6 6 6 6 6 6 5 5 5 6 6 6 6 6 6 6 5 6 5 6 6 6 6 6 6 6 6 6 6 5 6 5 6 6 6 6 6\n",
      " 6 6 6 6 6 8 5 6 6 6 6 5 6 6 6 6 6 5 6 6 6 6 5 6 6 5 7 6 6 6 6 6 6 6 6 6 6\n",
      " 6 6 5 5 6 6 6 5 6 6 6 6 6 6 6 6 6 6 5 6 6 6 5 7 5 6 6 6 6 6 5 6 6 5 6 6 6\n",
      " 7 6 6 6 6 5 6 6 5 6 6 6 6 5 6 5 5 6 6 5 6 6 5 5 6 6 6 6 6 5 6 6 6 7 6 5 5\n",
      " 6 5 6 6 6 6 6 6 6 6 6 6 5 5 6 6 6 6 6 5 6 5 6 6 5 7 6 6 6 6 6 5 5 6 6 6 5\n",
      " 6 6 6 5 6 5 5 6 5 6 6 6 6 6 7 6 6 6 6 6 6 6 5 6 6 5 5 6 6 6 6 7 5 6 6 6 5\n",
      " 5 6 6 5 6 5 6 6 6 6 6 6 5 5 5 5 6 6 5 6 6 6 6 5 6 6 6 6 6 6 6 6 6 6 6 6 6\n",
      " 6 5 6 6 5 6 6 6 6 5 6 6 6 6 6 5 6 6 5 6 6 5 6 5 6 6 5 7 6 6 6 6 5 6 6 5 6\n",
      " 6 7 6 6 6 6 6 6 5 6 5 6 6 6 6 5 6 6 5 6 6 6 7 5 5 5 5 6 6 5 5 5 6 6 5 6 6\n",
      " 5 6 6 6 5 6 5 5 6 6 6 6 5 6 6 6 5 6 6 6 6 5 5 6 5 6 5 6 5 5 6 6 6 6 5 6 6\n",
      " 6 6 6 6 5 5 5 6 6 6 5 6 6 6 6 6 5 5 5 5 6 5 6 6 5 6 6 6 6 6 6 6 6 6 6 6 6\n",
      " 6 5 6 7 6 6 6 5 6 6 6 6 5 6 6 5 6 6 6 6 5 6 5 6 6 6 6 5 6 6 6 6 6 6 6 5 7\n",
      " 5 6 6 6 6 6 6 5 6 5 6 5 6 6 6 6 5 6 6 5 6 6 6 6 6 6 6 5 6 6 6 6 6 5 6 6 6\n",
      " 5 6 5 6 6 6 6 6 6 6 6 6 6 5 5 6 6 6 6 5 6 5 6 6 6 6 5 6 6 7 5 6 5 6 5 6 6\n",
      " 5 6 6 6 6 5 6 6 6 5 6 5 6 6 6 5 6 6 6 7 5 6 6 5 6 6 5 5 5 6 6 6 6 5 5 6 6\n",
      " 6 6 6 6 5 6 6 5 6 6 5 6 6 7 6 5 6 6 6 6 6 6 5 7 6 6 6 6 6 6 5 5 5 6 6 6 6\n",
      " 5 6 6 5 5 6 6 6 5 6 6 5 6 6 5 6 6 6 6 7 5 5 6 6 6 6 6 6 5 5 6 6 5 6 6 6 6\n",
      " 5 6 6 6 5 5 5 5 6 5 6 6 6 5 6 5 5 6 5 5 6 6 6 5 7 6 6 6 6 6 6 6 5 6 6 7 6\n",
      " 6 6 6 6 6 6 6 5 6 6 5 6 5 6 6 6 6 6 6 6 6 6 6 6 6 5 5 6 5 5 5 5 6 6 6 5 6\n",
      " 5 6 6 6 6 6 6 6 6 5 5 6 5 6 6 5 5 6 5 6 6 5 6 6 6 6 6 6 6 6 6 6 6 6 6 5 6\n",
      " 5 6 6 5 5 5 6 5 6 5 6 6 6 6 6 3 6 6 5 6 6 6 6 5 6 5 6 5 5 6 6 6 6 6 6 6 5\n",
      " 6 6 6 6 6 6 6 6 6 5 6 6 6 6 5 6 6 7 5 6 6 6 6 6 6 6 6 6 6 5 5 6 6 6 5 6 6\n",
      " 6 6 6 6 6 6 6 6 6 6 6 6 6 6 6 6 5 5]\n"
     ]
    }
   ],
   "source": [
    "##Predicting test results\n",
    "y_pred = classifier.predict(x_test)\n",
    "print(y_pred)"
   ]
  },
  {
   "cell_type": "code",
   "execution_count": 10,
   "metadata": {},
   "outputs": [
    {
     "name": "stdout",
     "output_type": "stream",
     "text": [
      "0.48367346938775513\n",
      "[[  0   0   5   4   0   0]\n",
      " [  0   0  28  21   2   0]\n",
      " [  0   0 134 161   0   0]\n",
      " [  1   0  73 327   7   1]\n",
      " [  0   0  11 159  13   0]\n",
      " [  0   0   0  31   2   0]]\n"
     ]
    }
   ],
   "source": [
    "##Calculating accuracy score and confusion matrix\n",
    "from sklearn.metrics import accuracy_score,confusion_matrix\n",
    "ac = accuracy_score(y_test,y_pred)\n",
    "cm = confusion_matrix(y_test,y_pred)\n",
    "print(ac)\n",
    "print(cm)"
   ]
  },
  {
   "cell_type": "code",
   "execution_count": 11,
   "metadata": {},
   "outputs": [
    {
     "data": {
      "image/png": "[encoded data removed]",
      "text/plain": [
       "<Figure size 432x288 with 1 Axes>"
      ]
     },
     "metadata": {},
     "output_type": "display_data"
    }
   ],
   "source": [
    "#Visualizing the test results\n",
    "plt.style.use('dark_background')\n",
    "bins = np.linspace(3,10,10)\n",
    "plt.hist([y_test,y_pred],bins=bins,color=['purple','green'],label=['Actual result','Predicted result'])\n",
    "plt.xlabel('White wine quality')\n",
    "plt.ylabel('Test set')\n",
    "plt.legend()\n",
    "plt.show()"
   ]
  },
  {
   "cell_type": "markdown",
   "metadata": {},
   "source": [
    "---"
   ]
  },
  {
   "cell_type": "code",
   "execution_count": 12,
   "metadata": {},
   "outputs": [
    {
     "data": {
      "text/plain": [
       "KNeighborsClassifier(algorithm='auto', leaf_size=30, metric='minkowski',\n",
       "                     metric_params=None, n_jobs=None, n_neighbors=5, p=2,\n",
       "                     weights='uniform')"
      ]
     },
     "execution_count": 12,
     "metadata": {},
     "output_type": "execute_result"
    }
   ],
   "source": [
    "##Training the K-NN model on the training set\n",
    "from sklearn.neighbors import KNeighborsClassifier\n",
    "classifier = KNeighborsClassifier(n_neighbors=5)\n",
    "classifier.fit(x_train,y_train)"
   ]
  },
  {
   "cell_type": "code",
   "execution_count": 13,
   "metadata": {},
   "outputs": [
    {
     "name": "stdout",
     "output_type": "stream",
     "text": [
      "[6 5 5 6 5 5 6 6 5 6 6 7 6 6 7 6 6 5 6 6 6 6 5 6 6 8 5 5 7 6 5 5 6 7 5 6 7\n",
      " 7 6 7 6 6 6 6 5 6 5 6 6 6 7 6 6 6 4 7 6 6 5 6 6 5 6 6 6 6 5 5 5 5 6 5 6 6\n",
      " 6 6 6 5 7 7 5 6 5 6 5 5 6 6 6 6 7 7 5 8 5 6 7 5 5 6 7 5 6 6 5 5 6 6 5 5 5\n",
      " 6 7 5 7 7 5 5 7 5 5 5 6 5 6 6 5 6 6 6 6 6 6 6 5 6 6 6 6 5 6 6 6 7 6 6 6 6\n",
      " 6 6 6 6 6 7 6 6 5 5 6 6 5 5 7 5 5 6 6 6 5 6 7 6 5 6 7 7 5 5 6 5 6 6 6 7 6\n",
      " 6 6 6 5 6 6 5 5 6 6 6 6 4 6 6 5 5 6 7 6 6 6 5 7 6 4 8 7 5 5 7 6 6 6 7 5 7\n",
      " 6 7 6 5 6 5 6 6 7 6 6 6 5 5 5 7 6 5 5 5 7 6 6 7 5 5 7 6 7 6 6 6 7 6 6 5 6\n",
      " 7 7 6 6 6 5 6 5 5 6 5 7 7 5 6 5 5 7 6 5 6 7 5 6 6 6 6 6 6 5 5 6 6 5 7 6 6\n",
      " 7 6 5 6 6 6 7 6 6 7 5 5 6 5 6 6 7 7 5 5 6 6 6 6 6 6 6 7 5 7 6 5 5 6 6 6 5\n",
      " 6 6 6 5 5 4 6 6 5 6 7 6 6 5 7 5 6 6 6 6 7 7 5 5 7 6 7 5 6 6 5 7 5 6 6 5 6\n",
      " 6 7 8 6 6 5 6 6 6 6 6 5 6 5 5 5 6 6 5 6 6 7 5 6 7 6 6 5 6 6 7 5 6 6 7 6 6\n",
      " 6 6 6 6 5 6 5 6 6 6 6 6 8 7 6 7 6 8 5 6 6 6 7 5 6 6 5 6 6 5 5 6 6 5 5 5 6\n",
      " 6 7 6 6 6 6 6 5 5 5 5 6 6 5 6 5 6 6 7 6 5 5 7 6 5 6 6 5 5 5 5 5 7 6 5 5 5\n",
      " 6 7 4 5 6 6 5 6 6 7 5 7 5 6 7 6 5 6 5 6 7 5 5 6 5 5 6 5 6 6 6 6 6 6 6 6 5\n",
      " 5 5 6 6 5 6 5 5 7 6 6 6 7 6 7 6 5 5 5 5 6 6 5 6 5 6 6 6 5 5 7 4 6 6 5 6 6\n",
      " 6 5 6 6 6 7 5 4 7 7 6 7 5 5 6 5 5 6 5 5 5 6 5 6 6 5 5 5 5 6 6 5 6 6 6 6 7\n",
      " 6 6 6 5 7 5 6 7 4 5 6 5 6 6 6 6 6 5 7 5 6 7 6 6 6 7 6 6 7 6 8 7 5 5 6 5 5\n",
      " 6 7 5 6 6 7 5 6 5 5 6 7 6 6 6 5 7 7 5 5 7 5 6 7 6 6 7 7 6 7 5 6 5 7 5 6 5\n",
      " 5 6 6 6 6 6 5 6 7 5 5 5 6 5 6 5 5 6 6 7 5 6 7 5 5 6 5 5 5 6 6 6 6 4 5 5 6\n",
      " 6 6 6 6 5 6 5 6 6 6 5 7 6 6 5 5 6 6 6 6 7 6 5 6 6 6 7 6 8 5 6 5 5 6 5 6 6\n",
      " 5 6 5 5 5 8 6 6 5 5 7 6 6 6 6 6 5 6 5 7 6 5 6 7 6 6 6 7 5 5 6 5 5 7 7 5 6\n",
      " 6 6 5 6 5 6 6 7 7 4 6 6 7 5 6 6 6 7 5 5 6 6 5 5 6 6 6 6 6 7 6 7 5 6 5 6 5\n",
      " 6 5 6 6 6 6 5 5 6 6 6 5 5 6 6 5 6 6 5 6 5 5 5 5 7 5 5 5 6 5 5 4 6 6 6 6 6\n",
      " 5 6 6 6 7 6 6 5 5 5 5 5 5 5 5 6 5 5 5 5 6 6 5 6 6 5 5 7 7 7 5 6 6 7 5 5 5\n",
      " 5 6 6 5 5 6 6 5 6 5 5 6 5 6 6 6 5 6 6 7 6 6 6 5 6 6 6 5 6 7 6 6 6 7 6 5 6\n",
      " 6 7 6 6 6 6 7 6 6 4 8 7 5 6 6 6 7 7 5 6 6 6 5 6 7 6 5 6 6 6 5 6 6 6 5 6 6\n",
      " 5 6 6 6 7 7 6 7 8 6 6 6 6 5 6 6 6 5]\n"
     ]
    }
   ],
   "source": [
    "##Predicting test results\n",
    "y_pred = classifier.predict(x_test)\n",
    "print(y_pred)"
   ]
  },
  {
   "cell_type": "code",
   "execution_count": 14,
   "metadata": {},
   "outputs": [
    {
     "name": "stdout",
     "output_type": "stream",
     "text": [
      "0.49081632653061225\n",
      "[[  0   0   5   3   0   1]\n",
      " [  0   1  34  11   5   0]\n",
      " [  0   8 153 122  12   0]\n",
      " [  0   2 102 256  46   3]\n",
      " [  0   1  17  95  67   3]\n",
      " [  0   0   4  14  11   4]]\n"
     ]
    }
   ],
   "source": [
    "##Calculating accuracy score and confusion matrix\n",
    "from sklearn.metrics import accuracy_score,confusion_matrix\n",
    "ac = accuracy_score(y_test,y_pred)\n",
    "cm = confusion_matrix(y_test,y_pred)\n",
    "print(ac)\n",
    "print(cm)"
   ]
  },
  {
   "cell_type": "code",
   "execution_count": 15,
   "metadata": {},
   "outputs": [
    {
     "data": {
      "image/png": "[encoded data removed]",
      "text/plain": [
       "<Figure size 432x288 with 1 Axes>"
      ]
     },
     "metadata": {},
     "output_type": "display_data"
    }
   ],
   "source": [
    "#Visualizing the test results\n",
    "bins = np.linspace(3,10,10)\n",
    "plt.hist([y_test,y_pred],bins=bins,color=['blue','pink'],label=['Actual result','Predicted result'])\n",
    "plt.xlabel('White wine quality')\n",
    "plt.ylabel('Test set')\n",
    "plt.legend()\n",
    "plt.show()"
   ]
  },
  {
   "cell_type": "markdown",
   "metadata": {},
   "source": [
    "---"
   ]
  },
  {
   "cell_type": "code",
   "execution_count": 16,
   "metadata": {},
   "outputs": [
    {
     "data": {
      "text/plain": [
       "GaussianNB(priors=None, var_smoothing=1e-09)"
      ]
     },
     "execution_count": 16,
     "metadata": {},
     "output_type": "execute_result"
    }
   ],
   "source": [
    "##Training the Naive Bayes model on the training set\n",
    "from sklearn.naive_bayes import GaussianNB\n",
    "classifier = GaussianNB()\n",
    "classifier.fit(x_train,y_train)"
   ]
  },
  {
   "cell_type": "code",
   "execution_count": 17,
   "metadata": {},
   "outputs": [
    {
     "name": "stdout",
     "output_type": "stream",
     "text": [
      "[6 5 6 6 6 4 6 7 7 5 6 5 5 5 7 6 7 6 7 7 6 7 6 6 6 6 5 5 7 7 5 6 7 7 5 7 7\n",
      " 5 7 7 7 6 6 5 5 7 5 7 7 6 7 7 4 6 6 6 6 7 5 7 6 5 7 7 6 7 5 5 5 5 7 5 5 7\n",
      " 6 7 7 5 5 7 6 5 6 7 5 6 7 7 5 6 8 7 5 7 4 5 5 5 6 6 6 6 6 7 6 7 7 5 7 5 6\n",
      " 6 7 5 7 7 5 5 7 6 5 6 5 5 5 7 5 7 5 6 7 6 7 7 7 5 6 6 6 7 7 6 5 6 6 7 7 6\n",
      " 7 7 6 6 7 6 5 6 5 6 6 6 7 6 7 7 5 7 5 6 6 7 7 7 6 6 7 6 6 5 5 5 5 7 6 7 6\n",
      " 6 6 6 5 6 3 5 5 7 5 6 5 7 5 7 6 6 4 7 5 6 7 5 7 6 5 7 7 5 5 7 7 6 7 7 5 6\n",
      " 7 7 5 5 7 6 5 5 7 7 5 4 4 7 6 7 5 7 5 7 6 6 6 7 5 6 7 6 7 6 5 6 7 5 6 7 7\n",
      " 7 6 7 7 6 6 6 6 5 6 6 7 6 5 5 5 5 7 7 3 5 7 4 5 7 6 7 6 4 6 5 7 7 8 7 4 5\n",
      " 6 5 5 6 6 6 7 7 5 8 5 5 6 5 7 7 5 7 6 5 7 5 6 7 5 7 5 5 6 6 5 5 5 7 6 7 5\n",
      " 6 7 6 4 5 5 4 7 5 5 6 7 6 5 8 6 5 6 6 7 7 7 5 7 7 5 5 6 7 7 5 7 4 5 7 5 5\n",
      " 5 7 7 5 7 5 7 7 7 5 6 7 5 6 5 5 6 7 5 5 6 7 6 5 7 7 7 3 6 6 7 7 6 6 6 6 6\n",
      " 7 6 7 7 5 7 5 6 7 5 7 7 7 7 5 5 5 6 4 6 6 5 7 5 6 6 5 7 7 6 6 7 5 6 5 5 6\n",
      " 6 7 6 7 7 7 6 6 6 6 6 6 6 6 6 5 5 4 7 5 6 5 7 5 5 5 6 6 7 5 6 5 6 6 6 5 5\n",
      " 4 7 7 7 5 6 5 5 7 5 6 7 5 7 7 7 6 7 5 6 6 5 5 4 3 6 5 7 5 6 7 6 6 7 5 7 6\n",
      " 6 7 7 6 5 4 5 6 7 7 6 7 6 5 5 7 5 5 5 5 7 5 7 6 5 5 5 6 5 5 7 7 7 6 5 5 7\n",
      " 6 5 4 7 7 7 7 5 7 7 7 7 6 6 7 5 5 6 5 5 5 5 5 7 5 3 6 3 5 7 6 6 7 5 7 5 7\n",
      " 6 6 6 6 7 6 6 5 5 5 5 5 5 7 6 6 6 5 7 5 5 6 7 7 7 7 7 5 6 6 3 6 5 4 6 6 6\n",
      " 5 7 5 6 7 7 7 6 6 6 6 6 7 5 5 7 7 7 6 5 5 5 6 7 6 7 4 6 5 7 5 7 5 5 4 3 5\n",
      " 5 6 6 5 6 5 5 6 6 5 6 6 6 6 6 5 6 6 6 8 5 6 7 5 5 6 5 5 5 7 6 5 7 5 6 6 7\n",
      " 7 6 7 7 5 6 6 4 7 7 4 6 6 7 6 3 6 6 6 6 7 6 6 7 6 7 6 7 7 6 5 5 5 6 6 6 7\n",
      " 6 6 6 5 6 6 6 5 4 6 7 5 7 5 5 6 7 7 7 7 5 5 6 7 7 5 7 6 5 5 6 5 5 7 7 6 7\n",
      " 5 7 5 6 5 5 6 4 7 5 7 7 6 6 7 5 6 7 5 5 6 6 5 5 7 7 7 6 7 7 6 7 6 6 6 4 7\n",
      " 6 6 7 4 6 7 5 5 6 7 5 6 5 6 7 6 7 7 5 6 6 6 5 5 7 5 5 6 6 5 5 6 7 7 7 7 5\n",
      " 5 7 6 7 6 6 6 7 6 5 6 6 5 6 5 5 5 5 5 5 7 5 6 6 7 6 6 7 7 7 6 7 6 6 6 6 5\n",
      " 5 7 6 6 6 5 7 5 7 5 4 7 6 5 6 3 5 6 5 6 7 5 6 3 6 5 6 6 5 6 6 6 5 7 6 5 5\n",
      " 7 7 6 6 5 7 5 7 7 6 7 7 5 6 3 6 7 7 5 7 7 7 6 6 7 6 6 7 7 6 5 7 6 6 6 6 6\n",
      " 7 6 7 7 7 7 5 7 7 6 6 6 6 5 5 6 5 4]\n"
     ]
    }
   ],
   "source": [
    "##Predicting test results\n",
    "y_pred = classifier.predict(x_test)\n",
    "print(y_pred)"
   ]
  },
  {
   "cell_type": "code",
   "execution_count": 18,
   "metadata": {},
   "outputs": [
    {
     "name": "stdout",
     "output_type": "stream",
     "text": [
      "0.4418367346938776\n",
      "[[  3   3   0   2   1   0]\n",
      " [  1  11  17  18   4   0]\n",
      " [  2  11 151 104  27   0]\n",
      " [  6   4 105 150 143   1]\n",
      " [  0   0  18  45 117   3]\n",
      " [  0   0   1  12  19   1]]\n"
     ]
    }
   ],
   "source": [
    "##Calculating accuracy score and confusion matrix\n",
    "from sklearn.metrics import accuracy_score,confusion_matrix\n",
    "ac = accuracy_score(y_test,y_pred)\n",
    "cm = confusion_matrix(y_test,y_pred)\n",
    "print(ac)\n",
    "print(cm)"
   ]
  },
  {
   "cell_type": "code",
   "execution_count": 19,
   "metadata": {},
   "outputs": [
    {
     "data": {
      "image/png": "[encoded data removed]",
      "text/plain": [
       "<Figure size 432x288 with 1 Axes>"
      ]
     },
     "metadata": {},
     "output_type": "display_data"
    }
   ],
   "source": [
    "#Visualizing the test results\n",
    "bins = np.linspace(3,10,10)\n",
    "plt.hist([y_test,y_pred],bins=bins,color=['cyan','orange'],label=['Actual result','Predicted result'])\n",
    "plt.xlabel('White wine quality')\n",
    "plt.ylabel('Test set')\n",
    "plt.legend()\n",
    "plt.show()"
   ]
  },
  {
   "cell_type": "markdown",
   "metadata": {},
   "source": [
    "---"
   ]
  },
  {
   "cell_type": "code",
   "execution_count": 20,
   "metadata": {},
   "outputs": [
    {
     "data": {
      "text/plain": [
       "SVC(C=1.0, cache_size=200, class_weight=None, coef0=0.0,\n",
       "    decision_function_shape='ovr', degree=3, gamma='auto_deprecated',\n",
       "    kernel='rbf', max_iter=-1, probability=False, random_state=0,\n",
       "    shrinking=True, tol=0.001, verbose=False)"
      ]
     },
     "execution_count": 20,
     "metadata": {},
     "output_type": "execute_result"
    }
   ],
   "source": [
    "##Training the kernel SVM on the training set\n",
    "from sklearn.svm import SVC\n",
    "classifier = SVC(kernel='rbf',random_state=0)\n",
    "classifier.fit(x_train,y_train)"
   ]
  },
  {
   "cell_type": "code",
   "execution_count": 21,
   "metadata": {},
   "outputs": [
    {
     "name": "stdout",
     "output_type": "stream",
     "text": [
      "[5 5 6 7 6 5 6 6 6 5 6 5 5 5 6 6 6 6 6 6 6 6 6 6 6 6 5 5 6 6 5 6 6 6 5 6 6\n",
      " 5 6 6 6 6 6 6 5 6 5 7 6 5 7 6 5 6 6 6 6 6 5 6 5 5 6 6 6 6 5 5 5 5 6 5 6 7\n",
      " 6 6 6 5 6 7 5 5 6 6 5 6 6 7 5 6 7 6 5 7 5 5 5 5 6 6 7 5 6 6 5 6 6 6 6 5 5\n",
      " 6 6 5 6 7 5 5 7 6 5 6 6 5 6 7 5 6 6 6 6 6 7 6 6 5 6 6 6 6 6 6 5 6 6 6 6 6\n",
      " 6 6 6 6 6 6 5 6 5 6 6 6 6 6 6 6 5 7 6 6 5 6 6 6 6 6 6 6 5 5 5 6 6 6 6 6 6\n",
      " 6 6 6 6 6 6 6 5 6 5 6 5 6 6 6 6 6 5 6 6 6 6 5 7 6 5 7 7 5 5 6 6 6 6 7 6 6\n",
      " 6 6 5 5 6 5 5 5 6 6 6 5 6 6 6 6 6 6 5 6 7 6 5 6 5 6 6 6 6 6 6 6 6 5 6 6 6\n",
      " 7 6 6 6 6 5 6 6 5 5 5 7 5 5 6 5 5 6 6 5 6 7 5 6 6 6 6 6 6 5 5 6 6 6 6 5 5\n",
      " 6 6 5 6 6 6 7 6 6 6 6 5 5 5 6 6 6 6 5 5 6 5 6 6 5 7 5 5 6 6 6 5 5 6 6 6 5\n",
      " 6 6 6 6 6 6 5 7 6 6 6 6 6 5 7 6 6 6 6 6 6 7 5 6 6 5 5 6 6 6 6 7 5 5 6 6 5\n",
      " 5 6 6 5 6 5 6 6 6 6 6 6 5 5 5 5 6 6 5 5 6 7 6 5 7 6 6 6 6 6 6 6 6 6 5 6 6\n",
      " 6 5 6 6 5 6 6 6 6 5 6 6 6 6 5 6 6 6 5 6 6 5 7 5 6 5 5 7 6 6 5 6 6 5 5 5 6\n",
      " 6 7 6 6 6 6 6 6 5 6 5 6 6 6 6 5 5 5 6 5 6 6 7 5 5 5 5 6 6 5 5 5 6 6 5 6 5\n",
      " 5 7 6 6 5 6 5 5 6 5 6 6 5 6 7 6 5 6 6 6 6 5 5 5 5 6 6 6 5 5 6 6 6 6 5 7 5\n",
      " 6 6 6 6 5 5 6 5 6 6 6 6 6 5 6 6 5 5 5 5 6 5 6 6 5 6 6 6 6 5 6 6 6 6 5 6 6\n",
      " 6 5 5 6 7 6 6 5 6 6 6 6 5 6 6 5 6 6 6 6 5 6 5 6 6 5 6 5 5 6 6 6 6 6 6 5 7\n",
      " 5 6 6 6 6 6 6 5 6 5 6 5 5 6 6 6 5 5 6 5 6 6 6 6 6 6 6 5 6 6 6 6 6 5 6 5 6\n",
      " 5 7 5 6 6 6 6 6 6 6 6 6 6 5 5 6 6 7 6 6 6 5 6 6 6 6 6 6 6 7 5 6 5 6 5 6 6\n",
      " 5 6 6 6 6 5 5 6 6 5 5 5 6 6 6 5 6 6 6 7 5 6 6 5 6 6 5 5 5 6 5 6 6 5 5 5 6\n",
      " 6 6 6 6 6 6 5 5 6 6 5 6 6 7 5 5 6 6 6 6 6 6 5 7 6 6 6 6 6 6 5 5 5 6 5 6 6\n",
      " 6 6 5 5 5 6 6 5 5 5 6 5 6 6 5 6 6 6 7 7 5 5 6 6 6 6 6 6 5 5 6 6 5 6 6 6 6\n",
      " 5 7 5 6 5 5 6 6 6 6 6 6 6 6 6 5 5 6 5 5 6 6 5 6 7 6 6 6 6 6 6 7 5 6 6 6 6\n",
      " 6 5 6 6 6 6 5 5 6 6 5 6 5 6 6 5 6 7 6 5 6 5 6 6 6 5 5 6 5 5 5 5 6 6 6 6 5\n",
      " 5 6 6 6 6 6 6 6 6 5 5 5 5 5 5 6 5 6 5 6 6 5 6 6 6 5 6 6 6 6 5 6 6 6 6 5 5\n",
      " 5 6 6 5 5 5 6 5 6 6 5 6 5 5 6 5 6 6 5 6 6 6 6 5 6 5 6 5 6 6 6 6 6 6 6 6 5\n",
      " 6 6 6 6 6 6 5 6 6 5 6 6 6 6 6 6 6 7 5 6 7 6 6 6 6 6 6 6 6 6 5 6 6 6 5 6 6\n",
      " 6 6 6 6 6 7 6 6 7 6 6 6 6 5 6 6 5 5]\n"
     ]
    }
   ],
   "source": [
    "##Predicting test results\n",
    "y_pred = classifier.predict(x_test)\n",
    "print(y_pred)"
   ]
  },
  {
   "cell_type": "code",
   "execution_count": 22,
   "metadata": {},
   "outputs": [
    {
     "name": "stdout",
     "output_type": "stream",
     "text": [
      "0.5\n",
      "[[  0   0   5   4   0   0]\n",
      " [  0   0  31  19   1   0]\n",
      " [  0   0 157 137   1   0]\n",
      " [  0   0  92 302  15   0]\n",
      " [  0   0  16 136  31   0]\n",
      " [  0   0   1  25   7   0]]\n"
     ]
    }
   ],
   "source": [
    "##Calculating accuracy score and confusion matrix\n",
    "from sklearn.metrics import accuracy_score,confusion_matrix\n",
    "ac = accuracy_score(y_test,y_pred)\n",
    "cm = confusion_matrix(y_test,y_pred)\n",
    "print(ac)\n",
    "print(cm)"
   ]
  },
  {
   "cell_type": "code",
   "execution_count": 23,
   "metadata": {},
   "outputs": [
    {
     "data": {
      "image/png": "[encoded data removed]",
      "text/plain": [
       "<Figure size 432x288 with 1 Axes>"
      ]
     },
     "metadata": {},
     "output_type": "display_data"
    }
   ],
   "source": [
    "#Visualizing the test results\n",
    "bins = np.linspace(3,10,10)\n",
    "plt.hist([y_test,y_pred],bins=bins,color=['cyan','orange'],label=['Actual result','Predicted result'])\n",
    "plt.xlabel('White wine quality')\n",
    "plt.ylabel('Test set')\n",
    "plt.legend()\n",
    "plt.show()"
   ]
  },
  {
   "cell_type": "markdown",
   "metadata": {},
   "source": [
    "---"
   ]
  },
  {
   "cell_type": "code",
   "execution_count": 24,
   "metadata": {},
   "outputs": [
    {
     "data": {
      "text/plain": [
       "DecisionTreeClassifier(class_weight=None, criterion='entropy', max_depth=None,\n",
       "                       max_features=None, max_leaf_nodes=None,\n",
       "                       min_impurity_decrease=0.0, min_impurity_split=None,\n",
       "                       min_samples_leaf=1, min_samples_split=2,\n",
       "                       min_weight_fraction_leaf=0.0, presort=False,\n",
       "                       random_state=0, splitter='best')"
      ]
     },
     "execution_count": 24,
     "metadata": {},
     "output_type": "execute_result"
    }
   ],
   "source": [
    "##Training the Decision Tree Classification model on the training set\n",
    "from sklearn.tree import DecisionTreeClassifier\n",
    "classifier = DecisionTreeClassifier(criterion='entropy',random_state=0)\n",
    "classifier.fit(x_train,y_train)"
   ]
  },
  {
   "cell_type": "code",
   "execution_count": 25,
   "metadata": {},
   "outputs": [
    {
     "name": "stdout",
     "output_type": "stream",
     "text": [
      "[3 6 7 5 6 6 6 6 7 6 5 7 5 6 6 6 6 4 7 6 7 7 5 7 7 8 6 5 6 5 5 5 6 6 5 5 7\n",
      " 7 7 5 5 5 5 6 5 6 4 7 7 6 7 6 5 6 5 7 5 6 5 6 6 6 7 6 5 6 5 5 5 5 6 5 5 6\n",
      " 6 6 7 5 5 6 6 5 6 6 6 6 7 6 6 6 6 7 6 8 4 6 7 6 6 6 8 5 8 6 5 7 6 6 7 5 5\n",
      " 7 6 7 7 7 5 5 6 4 5 5 5 5 5 7 5 6 5 7 7 5 8 6 6 5 6 5 5 6 5 7 5 6 8 7 6 8\n",
      " 6 7 5 6 6 5 6 6 5 6 6 7 4 6 8 7 4 6 6 6 5 5 7 6 5 6 8 6 6 5 6 5 6 5 5 7 6\n",
      " 5 6 5 5 6 5 6 6 7 6 4 6 6 6 6 6 6 5 7 6 6 8 5 6 6 5 8 7 6 5 8 7 6 7 7 6 6\n",
      " 6 6 6 4 6 5 6 6 6 6 6 4 5 5 6 7 6 5 6 7 7 7 5 7 5 5 6 6 6 7 6 5 7 5 7 6 6\n",
      " 6 7 6 5 6 5 6 6 6 5 5 6 7 5 6 5 5 7 6 6 6 8 5 5 5 6 6 6 5 5 6 7 7 7 7 5 6\n",
      " 6 4 6 7 6 6 8 8 6 6 5 5 5 5 5 6 7 7 6 5 7 6 6 6 5 6 6 7 6 6 6 5 5 6 8 6 6\n",
      " 7 7 8 4 5 5 4 6 6 5 7 7 7 5 7 5 6 6 5 5 6 7 6 5 6 5 7 7 6 7 6 7 5 7 7 5 6\n",
      " 5 4 6 5 7 5 6 6 6 6 9 5 6 6 5 5 6 6 4 7 6 6 7 7 6 7 5 5 6 6 6 5 5 5 7 6 5\n",
      " 6 5 6 4 6 6 5 5 6 5 6 6 6 6 6 6 5 5 4 7 6 6 7 7 7 3 6 6 6 6 6 5 9 5 6 6 6\n",
      " 7 7 5 6 7 5 3 6 6 5 5 6 6 6 6 6 6 5 5 6 6 8 6 5 5 6 6 6 5 5 5 5 6 6 6 6 6\n",
      " 6 7 5 7 6 6 7 5 6 7 5 7 5 7 6 6 5 7 5 5 5 7 5 5 5 5 5 5 6 6 7 7 6 7 6 7 6\n",
      " 6 7 6 6 5 5 5 6 6 6 6 7 7 6 7 5 5 6 5 6 6 5 6 6 5 6 5 5 6 5 6 8 6 5 6 5 7\n",
      " 6 5 5 7 8 7 6 6 7 7 6 6 5 5 5 5 4 6 6 6 5 6 6 7 6 6 6 5 5 5 7 6 7 7 6 6 7\n",
      " 6 6 6 4 7 5 8 5 5 5 5 5 6 6 6 5 6 4 5 6 6 7 6 5 6 7 7 6 6 8 6 7 5 4 6 5 6\n",
      " 6 7 5 5 8 5 6 6 5 5 5 6 5 5 6 7 7 8 7 5 7 5 6 7 6 6 6 7 5 7 6 6 6 6 5 5 5\n",
      " 5 6 6 5 7 5 5 6 6 5 5 5 8 5 6 5 6 6 7 7 5 6 7 5 5 6 5 6 5 8 5 5 6 5 5 6 7\n",
      " 7 7 6 6 5 6 6 6 6 5 6 7 6 6 6 5 6 6 5 5 6 6 5 7 6 6 5 7 7 6 5 5 5 5 6 6 7\n",
      " 6 6 5 5 5 5 6 5 4 6 7 6 7 6 5 5 6 6 7 5 5 5 6 6 7 5 5 7 5 5 8 7 5 7 6 6 7\n",
      " 5 6 7 6 4 6 6 6 7 4 6 6 6 6 5 6 5 7 5 5 5 6 5 5 6 6 8 6 7 7 6 6 5 6 6 5 5\n",
      " 7 5 7 4 5 5 5 5 5 7 6 5 5 5 7 6 6 7 5 6 6 5 5 6 7 5 5 6 5 5 5 6 7 3 8 6 6\n",
      " 5 6 6 5 7 6 6 5 5 6 5 6 4 6 5 5 5 6 5 6 6 6 5 7 6 5 5 6 7 8 5 8 6 8 6 4 6\n",
      " 6 7 5 6 5 5 6 5 6 6 5 5 5 6 6 6 5 6 5 7 6 6 6 5 5 6 6 6 6 7 6 7 5 7 6 5 6\n",
      " 7 6 5 6 6 7 7 6 6 5 6 8 5 6 5 6 8 7 5 7 6 6 6 6 7 5 6 6 7 5 5 7 6 6 6 6 6\n",
      " 5 5 7 6 6 6 6 5 8 6 6 5 6 5 6 6 6 4]\n"
     ]
    }
   ],
   "source": [
    "##Predicting test results\n",
    "y_pred = classifier.predict(x_test)\n",
    "print(y_pred)"
   ]
  },
  {
   "cell_type": "code",
   "execution_count": 26,
   "metadata": {},
   "outputs": [
    {
     "name": "stdout",
     "output_type": "stream",
     "text": [
      "0.5551020408163265\n",
      "[[  0   0   5   4   0   0   0]\n",
      " [  0  11  22  15   1   1   1]\n",
      " [  2  14 180  85  14   0   0]\n",
      " [  2   2  84 245  59  16   1]\n",
      " [  0   0  16  63  97   7   0]\n",
      " [  0   0   6  11   5  11   0]\n",
      " [  0   0   0   0   0   0   0]]\n"
     ]
    }
   ],
   "source": [
    "##Calculating accuracy score and confusion matrix\n",
    "from sklearn.metrics import accuracy_score,confusion_matrix\n",
    "ac = accuracy_score(y_test,y_pred)\n",
    "cm = confusion_matrix(y_test,y_pred)\n",
    "print(ac)\n",
    "print(cm)"
   ]
  },
  {
   "cell_type": "code",
   "execution_count": 27,
   "metadata": {},
   "outputs": [
    {
     "data": {
      "image/png": "[encoded data removed]",
      "text/plain": [
       "<Figure size 432x288 with 1 Axes>"
      ]
     },
     "metadata": {},
     "output_type": "display_data"
    }
   ],
   "source": [
    "#Visualizing the test results\n",
    "bins = np.linspace(3,10,10)\n",
    "plt.hist([y_test,y_pred],bins=bins,color=['cyan','orange'],label=['Actual result','Predicted result'])\n",
    "plt.xlabel('White wine quality')\n",
    "plt.ylabel('Test set')\n",
    "plt.legend()\n",
    "plt.show()"
   ]
  },
  {
   "cell_type": "markdown",
   "metadata": {},
   "source": [
    "---"
   ]
  },
  {
   "cell_type": "code",
   "execution_count": 28,
   "metadata": {},
   "outputs": [
    {
     "data": {
      "text/plain": [
       "RandomForestClassifier(bootstrap=True, class_weight=None, criterion='entropy',\n",
       "                       max_depth=None, max_features='auto', max_leaf_nodes=None,\n",
       "                       min_impurity_decrease=0.0, min_impurity_split=None,\n",
       "                       min_samples_leaf=1, min_samples_split=2,\n",
       "                       min_weight_fraction_leaf=0.0, n_estimators=100,\n",
       "                       n_jobs=None, oob_score=False, random_state=0, verbose=0,\n",
       "                       warm_start=False)"
      ]
     },
     "execution_count": 28,
     "metadata": {},
     "output_type": "execute_result"
    }
   ],
   "source": [
    "##Training the Random Forest Classification model on the training set\n",
    "from sklearn.ensemble import RandomForestClassifier\n",
    "classifier = RandomForestClassifier(n_estimators=100,criterion='entropy',random_state=0)\n",
    "classifier.fit(x_train,y_train)"
   ]
  },
  {
   "cell_type": "code",
   "execution_count": 29,
   "metadata": {},
   "outputs": [
    {
     "name": "stdout",
     "output_type": "stream",
     "text": [
      "[5 6 6 7 6 5 6 6 6 5 6 7 5 6 6 6 6 5 7 6 6 7 6 6 7 8 5 5 6 6 5 5 6 6 5 6 7\n",
      " 7 7 6 5 5 5 6 5 6 5 7 7 6 7 6 5 6 6 7 5 6 5 6 5 5 6 6 7 6 5 5 5 5 6 5 5 7\n",
      " 6 6 6 5 5 7 6 5 6 6 6 5 7 7 6 6 6 6 6 8 5 6 7 6 6 6 6 5 6 6 6 6 6 6 6 5 5\n",
      " 6 6 6 7 7 5 5 6 5 5 6 5 5 5 7 5 6 6 7 6 6 7 6 6 5 6 6 5 6 5 7 6 6 6 7 6 6\n",
      " 6 7 6 6 6 7 5 6 5 6 7 7 6 6 6 7 6 7 6 6 5 5 7 6 5 6 6 6 5 5 6 5 6 6 7 6 6\n",
      " 5 6 6 5 6 6 6 6 7 6 6 6 6 6 6 6 6 5 6 6 5 6 5 7 6 5 8 7 6 5 8 6 6 7 7 6 6\n",
      " 6 6 6 5 6 5 6 5 6 6 6 4 5 6 6 6 6 5 5 7 7 6 6 7 5 5 6 6 6 6 5 6 7 5 6 6 7\n",
      " 6 7 6 6 6 5 6 6 6 5 6 6 7 5 6 5 5 6 6 6 6 7 5 5 6 6 6 6 5 5 6 6 7 8 6 5 5\n",
      " 6 5 6 7 6 6 7 6 6 6 5 6 6 5 6 6 7 6 5 5 6 6 6 6 6 7 6 7 6 6 6 5 5 6 8 6 5\n",
      " 6 7 6 4 5 5 4 7 5 6 7 6 6 5 7 6 6 6 5 6 6 7 6 5 6 5 7 7 6 7 6 7 5 6 7 5 6\n",
      " 6 6 7 5 7 5 6 6 6 6 6 5 6 6 5 5 6 6 5 5 6 6 7 7 6 7 6 6 6 6 7 6 6 6 6 6 5\n",
      " 6 5 7 5 6 6 6 5 6 5 6 7 7 6 6 6 5 6 5 6 6 6 7 6 6 5 5 6 6 6 5 6 5 5 5 5 6\n",
      " 7 7 6 6 7 6 6 6 6 5 5 5 6 6 6 5 6 5 6 6 5 8 6 5 5 6 6 6 5 5 5 5 6 6 6 6 6\n",
      " 6 7 5 6 6 6 7 5 6 7 5 7 5 6 6 6 6 6 5 5 6 5 5 5 5 5 6 6 6 6 6 6 7 7 5 7 6\n",
      " 6 7 6 6 5 5 5 5 6 6 6 6 7 6 7 6 5 5 5 6 6 5 6 6 5 6 6 6 6 5 6 6 6 6 6 5 7\n",
      " 6 5 5 6 8 6 6 5 6 6 6 7 5 5 6 5 5 6 6 6 5 6 5 6 6 6 6 5 5 5 6 6 7 6 6 6 7\n",
      " 6 6 6 6 6 6 8 5 5 5 6 5 6 6 6 6 6 4 6 5 6 6 6 6 6 7 6 6 6 8 6 6 5 5 6 5 6\n",
      " 6 7 5 5 6 6 6 6 5 6 6 6 6 5 6 7 6 6 6 6 7 5 5 7 6 6 6 7 5 7 5 6 5 6 5 6 5\n",
      " 5 6 6 5 6 5 6 6 6 5 6 5 6 5 6 5 6 6 6 8 5 6 6 5 5 6 5 6 5 6 5 6 6 5 5 6 7\n",
      " 7 7 7 6 6 6 6 6 6 6 5 7 6 6 6 5 6 6 6 5 6 6 5 7 6 6 6 6 7 6 6 5 5 5 5 6 6\n",
      " 5 6 5 5 5 6 6 5 5 5 7 6 7 6 5 5 6 6 7 7 5 5 6 6 6 6 6 7 5 6 6 5 5 7 6 6 6\n",
      " 5 6 6 6 5 5 6 6 7 4 6 7 6 6 5 6 5 7 5 5 6 6 6 6 6 6 6 6 6 7 6 6 5 6 6 5 6\n",
      " 6 5 7 6 5 6 5 5 6 7 6 6 5 5 7 6 6 7 5 6 5 5 6 6 7 5 5 5 5 5 5 6 5 6 6 5 6\n",
      " 5 6 6 6 7 6 6 5 6 5 5 6 5 5 5 5 5 6 5 6 6 6 5 7 6 6 6 6 7 7 5 8 6 6 6 4 6\n",
      " 5 7 6 5 5 5 6 5 6 5 5 6 5 6 6 6 5 6 5 6 6 6 6 5 6 5 6 5 6 7 6 6 6 7 6 6 5\n",
      " 7 6 5 6 6 6 6 6 6 5 6 6 5 6 5 6 6 7 6 6 7 6 5 6 6 6 6 6 6 6 5 6 6 6 5 6 6\n",
      " 5 6 6 6 7 7 6 6 7 6 6 6 6 5 6 6 6 5]\n"
     ]
    }
   ],
   "source": [
    "##Predicting test results\n",
    "y_pred = classifier.predict(x_test)\n",
    "print(y_pred)"
   ]
  },
  {
   "cell_type": "code",
   "execution_count": 30,
   "metadata": {},
   "outputs": [
    {
     "name": "stdout",
     "output_type": "stream",
     "text": [
      "0.6459183673469387\n",
      "[[  0   0   5   4   0   0]\n",
      " [  0   6  23  22   0   0]\n",
      " [  0   0 195  98   2   0]\n",
      " [  0   0  54 329  26   0]\n",
      " [  0   0   6  80  94   3]\n",
      " [  0   0   1  14   9   9]]\n"
     ]
    }
   ],
   "source": [
    "##Calculating accuracy score and confusion matrix\n",
    "from sklearn.metrics import accuracy_score,confusion_matrix\n",
    "ac = accuracy_score(y_test,y_pred)\n",
    "cm = confusion_matrix(y_test,y_pred)\n",
    "print(ac)\n",
    "print(cm)"
   ]
  },
  {
   "cell_type": "code",
   "execution_count": 31,
   "metadata": {},
   "outputs": [
    {
     "data": {
      "image/png": "[encoded data removed]",
      "text/plain": [
       "<Figure size 432x288 with 1 Axes>"
      ]
     },
     "metadata": {},
     "output_type": "display_data"
    }
   ],
   "source": [
    "#Visualizing the test results\n",
    "bins = np.linspace(3,10,10)\n",
    "plt.hist([y_test,y_pred],bins=bins,color=['red','green'],label=['Actual result','Predicted result'])\n",
    "plt.xlabel('White wine quality')\n",
    "plt.ylabel('Test set')\n",
    "plt.legend()\n",
    "plt.show()"
   ]
  }
 ],
 "metadata": {
  "kernelspec": {
   "display_name": "Python 3",
   "language": "python",
   "name": "python3"
  },
  "language_info": {
   "codemirror_mode": {
    "name": "ipython",
    "version": 3
   },
   "file_extension": ".py",
   "mimetype": "text/x-python",
   "name": "python",
   "nbconvert_exporter": "python",
   "pygments_lexer": "ipython3",
   "version": "3.7.4"
  }
 },
 "nbformat": 4,
 "nbformat_minor": 2
}
